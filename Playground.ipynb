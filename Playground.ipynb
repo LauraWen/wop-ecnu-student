{
 "cells": [
  {
   "cell_type": "code",
   "execution_count": 1,
   "metadata": {},
   "outputs": [
    {
     "name": "stdout",
     "output_type": "stream",
     "text": [
      "Hi! What's your name?\n"
     ]
    },
    {
     "name": "stdin",
     "output_type": "stream",
     "text": [
      " Laura\n"
     ]
    },
    {
     "name": "stdout",
     "output_type": "stream",
     "text": [
      "Hello Laura!\n"
     ]
    }
   ],
   "source": [
    "print(\"Hi! What's your name?\")\n",
    "name = input()\n",
    "print(f\"Hello {name}!\")"
   ]
  },
  {
   "cell_type": "code",
   "execution_count": 2,
   "metadata": {},
   "outputs": [
    {
     "name": "stdout",
     "output_type": "stream",
     "text": [
      "How are you today?\n"
     ]
    },
    {
     "name": "stdin",
     "output_type": "stream",
     "text": [
      " Not bad.\n"
     ]
    },
    {
     "name": "stdout",
     "output_type": "stream",
     "text": [
      "Sorry to hear that.\n"
     ]
    }
   ],
   "source": [
    "def is_good(s):\n",
    "    return 'good' in s\n",
    "\n",
    "print(\"How are you today?\")\n",
    "feeling = input()\n",
    "if is_good(feeling):\n",
    "    print(\"I'm feeling good, too.\")\n",
    "else:\n",
    "    print(\"Sorry to hear that.\")"
   ]
  },
  {
   "cell_type": "code",
   "execution_count": 5,
   "metadata": {},
   "outputs": [
    {
     "name": "stdout",
     "output_type": "stream",
     "text": [
      "what's your favorite color?\n"
     ]
    },
    {
     "name": "stdin",
     "output_type": "stream",
     "text": [
      " green\n"
     ]
    },
    {
     "name": "stdout",
     "output_type": "stream",
     "text": [
      "You like green? That's beautiful color! I love blue.\n"
     ]
    }
   ],
   "source": [
    "import random\n",
    "\n",
    "colors = ['red','green','orange','blue','brown','purple','gray']\n",
    "\n",
    "print(\"what's your favorite color?\")\n",
    "favcolor = input()\n",
    "print(f\"You like {favcolor}? That's beautiful color! I love {random.choice(colors)}.\")"
   ]
  },
  {
   "cell_type": "code",
   "execution_count": null,
   "metadata": {},
   "outputs": [],
   "source": []
  },
  {
   "cell_type": "code",
   "execution_count": 6,
   "metadata": {},
   "outputs": [
    {
     "name": "stdout",
     "output_type": "stream",
     "text": [
      "Hi! What's your name?\n"
     ]
    },
    {
     "name": "stdin",
     "output_type": "stream",
     "text": [
      " Laura\n"
     ]
    },
    {
     "name": "stdout",
     "output_type": "stream",
     "text": [
      "Hello Laura!\n"
     ]
    }
   ],
   "source": [
    "class Hello:\n",
    "    def run(self):\n",
    "        print(\"Hi! What's your name?\")\n",
    "        name = input()\n",
    "        print(f\"Hello {name}!\")\n",
    "        \n",
    "h = Hello()\n",
    "h.run()"
   ]
  },
  {
   "cell_type": "code",
   "execution_count": 10,
   "metadata": {},
   "outputs": [
    {
     "name": "stdout",
     "output_type": "stream",
     "text": [
      "How are you today?\n"
     ]
    },
    {
     "name": "stdin",
     "output_type": "stream",
     "text": [
      " GOOD\n"
     ]
    },
    {
     "name": "stdout",
     "output_type": "stream",
     "text": [
      "I'm feeling good, too.\n"
     ]
    }
   ],
   "source": [
    "class Greeting:\n",
    "    def is_good(self,s):\n",
    "        return 'good' in s.lower()\n",
    "    \n",
    "    def run(self):\n",
    "        print(\"How are you today?\")\n",
    "        feeling = input()\n",
    "        if self.is_good(feeling):\n",
    "            print(\"I'm feeling good, too.\")\n",
    "        else:\n",
    "            print(\"Sorry to hear that.\")\n",
    "            \n",
    "g = Greeting()\n",
    "g.run()"
   ]
  },
  {
   "cell_type": "code",
   "execution_count": null,
   "metadata": {},
   "outputs": [],
   "source": []
  },
  {
   "cell_type": "code",
   "execution_count": 20,
   "metadata": {},
   "outputs": [],
   "source": [
    "class Bot:\n",
    "    def __init__(self):\n",
    "        self.q = \"\"\n",
    "        self.a = \"\"\n",
    "        \n",
    "    def _think(self,s): #下划线警告不要外部改动\n",
    "        return s\n",
    "    \n",
    "    def run(self):\n",
    "        print(self.q)\n",
    "        self.a = input()\n",
    "        print(self._think(self.a))"
   ]
  },
  {
   "cell_type": "code",
   "execution_count": 13,
   "metadata": {},
   "outputs": [
    {
     "name": "stdout",
     "output_type": "stream",
     "text": [
      "\n"
     ]
    },
    {
     "name": "stdin",
     "output_type": "stream",
     "text": [
      " ???\n"
     ]
    },
    {
     "name": "stdout",
     "output_type": "stream",
     "text": [
      "???\n"
     ]
    }
   ],
   "source": [
    "b = Bot()\n",
    "b.run()"
   ]
  },
  {
   "cell_type": "code",
   "execution_count": 21,
   "metadata": {},
   "outputs": [
    {
     "name": "stdout",
     "output_type": "stream",
     "text": [
      "Hi! What's your name?\n"
     ]
    },
    {
     "name": "stdin",
     "output_type": "stream",
     "text": [
      " lala\n"
     ]
    },
    {
     "name": "stdout",
     "output_type": "stream",
     "text": [
      "Hello lala!\n"
     ]
    }
   ],
   "source": [
    "class HelloBot(Bot):\n",
    "    def __init__(self):\n",
    "        self.q = \"Hi! What's your name?\"\n",
    "    \n",
    "    def _think(self,s):\n",
    "        return f\"Hello {s}!\"\n",
    "        \n",
    "h = HelloBot()\n",
    "h.run()"
   ]
  },
  {
   "cell_type": "code",
   "execution_count": 22,
   "metadata": {},
   "outputs": [
    {
     "name": "stdout",
     "output_type": "stream",
     "text": [
      "How are you today?\n"
     ]
    },
    {
     "name": "stdin",
     "output_type": "stream",
     "text": [
      " Good\n"
     ]
    },
    {
     "name": "stdout",
     "output_type": "stream",
     "text": [
      "I'm feeling good, too.\n"
     ]
    }
   ],
   "source": [
    "class GreetingBot(Bot):\n",
    "    def __init__(self):\n",
    "        self.q = \"How are you today?\"\n",
    "\n",
    "    def is_good(self,s):\n",
    "        return 'good' in s.lower()\n",
    "    \n",
    "    def _think(self,s):\n",
    "        if self.is_good(s):\n",
    "            return \"I'm feeling good, too.\"\n",
    "        else:\n",
    "            return \"Sorry to hear that.\"\n",
    "            \n",
    "g = GreetingBot()\n",
    "g.run()"
   ]
  },
  {
   "cell_type": "code",
   "execution_count": 25,
   "metadata": {},
   "outputs": [
    {
     "name": "stdout",
     "output_type": "stream",
     "text": [
      "what's your favorite color?\n"
     ]
    },
    {
     "name": "stdin",
     "output_type": "stream",
     "text": [
      " green\n"
     ]
    },
    {
     "name": "stdout",
     "output_type": "stream",
     "text": [
      "You like green? That's beautiful color! I love red.\n"
     ]
    }
   ],
   "source": [
    "import random\n",
    "\n",
    "class ColorBot(Bot):\n",
    "    def __init__(self):\n",
    "        self.q = \"what's your favorite color?\"\n",
    "        \n",
    "    def _think(self,s):\n",
    "        colors = ['red','green','orange','blue','brown','purple','gray']\n",
    "        return f\"You like {s}? That's beautiful color! I love {random.choice(colors)}.\"\n",
    "\n",
    "c = ColorBot()\n",
    "c.run()"
   ]
  },
  {
   "cell_type": "code",
   "execution_count": null,
   "metadata": {},
   "outputs": [],
   "source": []
  },
  {
   "cell_type": "code",
   "execution_count": 29,
   "metadata": {},
   "outputs": [],
   "source": [
    "class Garfield:\n",
    "    def __init__(self):\n",
    "        self.bots = []\n",
    "        \n",
    "    def add(self,bot):\n",
    "        self.bots.append(bot)\n",
    "        \n",
    "    def run(self):\n",
    "        print(\"This is a dialog system. Let's talk.\")\n",
    "        print()\n",
    "        \n",
    "        for bot in self.bots:\n",
    "            bot.run()"
   ]
  },
  {
   "cell_type": "code",
   "execution_count": 30,
   "metadata": {},
   "outputs": [
    {
     "name": "stdout",
     "output_type": "stream",
     "text": [
      "This is a dialog system. Let's talk.\n",
      "\n",
      "Hi! What's your name?\n"
     ]
    },
    {
     "name": "stdin",
     "output_type": "stream",
     "text": [
      " Laura\n"
     ]
    },
    {
     "name": "stdout",
     "output_type": "stream",
     "text": [
      "Hello Laura!\n",
      "How are you today?\n"
     ]
    },
    {
     "name": "stdin",
     "output_type": "stream",
     "text": [
      " GOOD\n"
     ]
    },
    {
     "name": "stdout",
     "output_type": "stream",
     "text": [
      "I'm feeling good, too.\n",
      "what's your favorite color?\n"
     ]
    },
    {
     "name": "stdin",
     "output_type": "stream",
     "text": [
      " red\n"
     ]
    },
    {
     "name": "stdout",
     "output_type": "stream",
     "text": [
      "You like red? That's beautiful color! I love red.\n"
     ]
    }
   ],
   "source": [
    "g = Garfield()\n",
    "g.add(HelloBot())\n",
    "g.add(GreetingBot())\n",
    "g.add(ColorBot())\n",
    "g.run()"
   ]
  },
  {
   "cell_type": "code",
   "execution_count": null,
   "metadata": {},
   "outputs": [],
   "source": []
  },
  {
   "cell_type": "markdown",
   "metadata": {},
   "source": [
    "作业：\n",
    "\n",
    "1. 完善CalcBot\n",
    "\n",
    "2. 新增一个Bot\n",
    "\n",
    "3. 完善可能出现的运行错误"
   ]
  }
 ],
 "metadata": {
  "kernelspec": {
   "display_name": "Python 3",
   "language": "python",
   "name": "python3"
  },
  "language_info": {
   "codemirror_mode": {
    "name": "ipython",
    "version": 3
   },
   "file_extension": ".py",
   "mimetype": "text/x-python",
   "name": "python",
   "nbconvert_exporter": "python",
   "pygments_lexer": "ipython3",
   "version": "3.7.4"
  }
 },
 "nbformat": 4,
 "nbformat_minor": 4
}
