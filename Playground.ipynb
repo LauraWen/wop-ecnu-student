{
 "cells": [
  {
   "cell_type": "markdown",
   "metadata": {},
   "source": [
    "- 闰年：闰年分为普通闰年和世纪闰年。能被4整除但不能被100整除的年份为普通闰年，能被400整除的为世纪闰年。"
   ]
  },
  {
   "cell_type": "code",
   "execution_count": 1,
   "metadata": {},
   "outputs": [
    {
     "name": "stdin",
     "output_type": "stream",
     "text": [
      "请输入一个年份： 2020\n"
     ]
    },
    {
     "name": "stdout",
     "output_type": "stream",
     "text": [
      "2020 年是闰年\n"
     ]
    }
   ],
   "source": [
    "#闰年 加入异常处理\n",
    "while True:\n",
    "    try:\n",
    "        x = int(input('请输入一个年份：'))\n",
    "        if x%4==0 and x%100!=0 or x%400==0:\n",
    "            print(x,'年是闰年')\n",
    "        else:\n",
    "            print(x,'年是平年')  \n",
    "        break\n",
    "    except ValueError:\n",
    "        print('请正确输入年份！')"
   ]
  },
  {
   "cell_type": "markdown",
   "metadata": {},
   "source": [
    "- 质数：在大于1的自然数中，除了1和它本身以外不再有其他因数的自然数。"
   ]
  },
  {
   "cell_type": "code",
   "execution_count": 7,
   "metadata": {},
   "outputs": [
    {
     "name": "stdin",
     "output_type": "stream",
     "text": [
      "请输入一个大于1的自然数： 9\n"
     ]
    },
    {
     "name": "stdout",
     "output_type": "stream",
     "text": [
      "9 是合数\n"
     ]
    }
   ],
   "source": [
    "#质数 加入输入值范围\n",
    "def num():\n",
    "    n = int(input('请输入一个大于1的自然数：'))\n",
    "    if n>1:\n",
    "        for i in range(2,n):\n",
    "            if n%i==0:\n",
    "                print(n,'是合数')\n",
    "                break\n",
    "        else:\n",
    "            print(n,'是质数')  \n",
    "    else:\n",
    "        print(n,'不是质数')\n",
    "        \n",
    "num()"
   ]
  },
  {
   "cell_type": "markdown",
   "metadata": {},
   "source": [
    "- 尝试定义可以生成素数的迭代器和生成器，并利用之输出前 n 个素数。"
   ]
  },
  {
   "cell_type": "code",
   "execution_count": 14,
   "metadata": {},
   "outputs": [
    {
     "data": {
      "text/plain": [
       "[2, 3, 5, 7, 11, 13, 17, 19, 23, 29]"
      ]
     },
     "execution_count": 14,
     "metadata": {},
     "output_type": "execute_result"
    }
   ],
   "source": [
    "## iterator\n",
    "\n",
    "from itertools import islice\n",
    "\n",
    "class primes:\n",
    "    def __init__(self):\n",
    "        self.next = 2\n",
    "        \n",
    "    def __iter__(self):\n",
    "        return self\n",
    "\n",
    "    def _is_prime(self, n):\n",
    "        for i in range(2,n):\n",
    "            if n % i == 0:\n",
    "                return False\n",
    "        else:\n",
    "            return True  \n",
    "        \n",
    "    \n",
    "    def __next__(self):\n",
    "        n = self.next\n",
    "        while not self._is_prime(n):\n",
    "            n += 1\n",
    "            \n",
    "        self.next = n + 1\n",
    "        return n \n",
    "    \n",
    "list(islice(primes(), 0, 10))"
   ]
  },
  {
   "cell_type": "code",
   "execution_count": 13,
   "metadata": {},
   "outputs": [
    {
     "data": {
      "text/plain": [
       "[2, 3, 5, 7, 11, 13, 17, 19, 23, 29]"
      ]
     },
     "execution_count": 13,
     "metadata": {},
     "output_type": "execute_result"
    }
   ],
   "source": [
    "## iterator  优化寻找素数的算法\n",
    "\n",
    "from math import sqrt\n",
    "from itertools import islice\n",
    "\n",
    "class primes:\n",
    "    def __init__(self):\n",
    "        self.next = 2\n",
    "\n",
    "    def __iter__(self):\n",
    "        return self\n",
    "\n",
    "    def _is_prime(self, n):\n",
    "        if n < 2:\n",
    "            return False\n",
    "\n",
    "        if n in (2, 3):\n",
    "            return True\n",
    "\n",
    "        for i in range(2, int(sqrt(n)) + 1):\n",
    "            if n % i == 0:\n",
    "                return False\n",
    "\n",
    "        return True\n",
    "\n",
    "    def __next__(self):\n",
    "        n = self.next\n",
    "        while not self._is_prime(n):\n",
    "            n += 1\n",
    "\n",
    "        self.next = n + 1\n",
    "        return n\n",
    "    \n",
    "list(islice(primes(), 0, 10))"
   ]
  },
  {
   "cell_type": "code",
   "execution_count": 16,
   "metadata": {},
   "outputs": [
    {
     "data": {
      "text/plain": [
       "[2, 3, 5, 7, 11, 13, 17, 19, 23, 29, 31, 37, 41, 43, 47, 53, 59, 61, 67, 71]"
      ]
     },
     "execution_count": 16,
     "metadata": {},
     "output_type": "execute_result"
    }
   ],
   "source": [
    "## generator\n",
    "def primes():\n",
    "    \"\"\"Generator which yields the sequence of prime numbers via the Sieve of Eratosthenes.\"\"\"\n",
    "    D = {}  # map composite integers to primes witnessing their compositeness\n",
    "    q = 2   # first integer to test for primality\n",
    "    while 1:\n",
    "        if q not in D:\n",
    "            yield q        # not marked composite, must be prime\n",
    "            D[q*q] = [q]   # first multiple of q not already marked\n",
    "        else:\n",
    "            for p in D[q]: # move each witness to its next multiple\n",
    "                D.setdefault(p+q,[]).append(p)\n",
    "            del D[q]       # no longer need D[q], free memory\n",
    "        q += 1\n",
    "        \n",
    "from itertools import islice\n",
    "list(islice(primes(), 0, 20))"
   ]
  },
  {
   "cell_type": "code",
   "execution_count": null,
   "metadata": {},
   "outputs": [],
   "source": []
  },
  {
   "cell_type": "markdown",
   "metadata": {},
   "source": [
    "判断素数的时间复杂度\n",
    "\n",
    "- O(n)\n",
    "\n",
    "```python\n",
    "def is_prime(n)：\n",
    "    if n<2:\n",
    "        return False\n",
    "    \n",
    "    if n in (2, 3):\n",
    "        return True\n",
    "    \n",
    "    for i in range(2,n):\n",
    "        if n % i == 0:\n",
    "            return False\n",
    "        \n",
    "    return True\n",
    "```\n",
    "\n",
    "- O(sqrt(n))\n",
    "\n",
    "```python\n",
    "def is_prime(n)：\n",
    "    if n<2:\n",
    "        return False\n",
    "    \n",
    "    if n in (2, 3):\n",
    "        return True\n",
    "    \n",
    "    for i in range(2,int(n**0.5)+1):\n",
    "        if n % i == 0:\n",
    "            return False\n",
    "        \n",
    "    return True\n",
    "```\n",
    "\n",
    "基本思路：除以小于等于自身的平方根的所有正数都不能整除，且大于1"
   ]
  },
  {
   "cell_type": "markdown",
   "metadata": {},
   "source": [
    "- O(n log log n)\n",
    "\n",
    "```python\n",
    "class primes:\n",
    "\n",
    "    def __init__(self, nlimit):\n",
    "        self.nlimit = nlimit\n",
    "        self.is_prime = [True]*nlimit\n",
    "        self._sieve()\n",
    "        self.next = 1\n",
    "\n",
    "    def _sieve(self):\n",
    "        self.is_prime[0] = False\n",
    "        self.is_prime[1] = False\n",
    "        for i in range(i*i, int(self.nlimit**0.5)+1):\n",
    "            if self.is_prime[i]:\n",
    "                for j in range(i*i, self.nlimit, i):\n",
    "                    self.is_prime[j] = False\n",
    "\n",
    "    def __next(self):\n",
    "        n = self.next + 1\n",
    "\n",
    "        while True:\n",
    "            if n >= self.nlimit:\n",
    "                raise StopIteration\n",
    "            elif self.is_prime[n]:\n",
    "                self.next = n\n",
    "                return self.next\n",
    "            else:\n",
    "                n += 1\n",
    "```\n",
    "\n",
    "基本思路：某个数的倍数都不是质数"
   ]
  },
  {
   "cell_type": "code",
   "execution_count": null,
   "metadata": {},
   "outputs": [],
   "source": []
  },
  {
   "cell_type": "code",
   "execution_count": null,
   "metadata": {},
   "outputs": [],
   "source": []
  },
  {
   "cell_type": "code",
   "execution_count": null,
   "metadata": {},
   "outputs": [],
   "source": []
  },
  {
   "cell_type": "code",
   "execution_count": null,
   "metadata": {},
   "outputs": [],
   "source": []
  }
 ],
 "metadata": {
  "kernelspec": {
   "display_name": "Python 3",
   "language": "python",
   "name": "python3"
  },
  "language_info": {
   "codemirror_mode": {
    "name": "ipython",
    "version": 3
   },
   "file_extension": ".py",
   "mimetype": "text/x-python",
   "name": "python",
   "nbconvert_exporter": "python",
   "pygments_lexer": "ipython3",
   "version": "3.7.4"
  }
 },
 "nbformat": 4,
 "nbformat_minor": 4
}
