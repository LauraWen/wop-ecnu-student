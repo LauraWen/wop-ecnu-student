{
 "cells": [
  {
   "cell_type": "code",
   "execution_count": 1,
   "metadata": {},
   "outputs": [
    {
     "name": "stdout",
     "output_type": "stream",
     "text": [
      "Hi! What's your name?\n"
     ]
    },
    {
     "name": "stdin",
     "output_type": "stream",
     "text": [
      " Laura\n"
     ]
    },
    {
     "name": "stdout",
     "output_type": "stream",
     "text": [
      "Hello Laura!\n"
     ]
    }
   ],
   "source": [
    "print(\"Hi! What's your name?\")\n",
    "name = input()\n",
    "print(f\"Hello {name}!\")"
   ]
  },
  {
   "cell_type": "code",
   "execution_count": 2,
   "metadata": {},
   "outputs": [
    {
     "name": "stdout",
     "output_type": "stream",
     "text": [
      "How are you today?\n"
     ]
    },
    {
     "name": "stdin",
     "output_type": "stream",
     "text": [
      " Not bad.\n"
     ]
    },
    {
     "name": "stdout",
     "output_type": "stream",
     "text": [
      "Sorry to hear that.\n"
     ]
    }
   ],
   "source": [
    "def is_good(s):\n",
    "    return 'good' in s\n",
    "\n",
    "print(\"How are you today?\")\n",
    "feeling = input()\n",
    "if is_good(feeling):\n",
    "    print(\"I'm feeling good, too.\")\n",
    "else:\n",
    "    print(\"Sorry to hear that.\")"
   ]
  },
  {
   "cell_type": "code",
   "execution_count": 5,
   "metadata": {},
   "outputs": [
    {
     "name": "stdout",
     "output_type": "stream",
     "text": [
      "what's your favorite color?\n"
     ]
    },
    {
     "name": "stdin",
     "output_type": "stream",
     "text": [
      " green\n"
     ]
    },
    {
     "name": "stdout",
     "output_type": "stream",
     "text": [
      "You like green? That's beautiful color! I love blue.\n"
     ]
    }
   ],
   "source": [
    "import random\n",
    "\n",
    "colors = ['red','green','orange','blue','brown','purple','gray']\n",
    "\n",
    "print(\"what's your favorite color?\")\n",
    "favcolor = input()\n",
    "print(f\"You like {favcolor}? That's beautiful color! I love {random.choice(colors)}.\")"
   ]
  },
  {
   "cell_type": "code",
   "execution_count": 6,
   "metadata": {},
   "outputs": [
    {
     "name": "stdout",
     "output_type": "stream",
     "text": [
      "Hi! What's your name?\n"
     ]
    },
    {
     "name": "stdin",
     "output_type": "stream",
     "text": [
      " Laura\n"
     ]
    },
    {
     "name": "stdout",
     "output_type": "stream",
     "text": [
      "Hello Laura!\n"
     ]
    }
   ],
   "source": [
    "class Hello:\n",
    "    def run(self):\n",
    "        print(\"Hi! What's your name?\")\n",
    "        name = input()\n",
    "        print(f\"Hello {name}!\")\n",
    "        \n",
    "h = Hello()\n",
    "h.run()"
   ]
  },
  {
   "cell_type": "code",
   "execution_count": 10,
   "metadata": {},
   "outputs": [
    {
     "name": "stdout",
     "output_type": "stream",
     "text": [
      "How are you today?\n"
     ]
    },
    {
     "name": "stdin",
     "output_type": "stream",
     "text": [
      " GOOD\n"
     ]
    },
    {
     "name": "stdout",
     "output_type": "stream",
     "text": [
      "I'm feeling good, too.\n"
     ]
    }
   ],
   "source": [
    "class Greeting:\n",
    "    def is_good(self,s):\n",
    "        return 'good' in s.lower()\n",
    "    \n",
    "    def run(self):\n",
    "        print(\"How are you today?\")\n",
    "        feeling = input()\n",
    "        if self.is_good(feeling):\n",
    "            print(\"I'm feeling good, too.\")\n",
    "        else:\n",
    "            print(\"Sorry to hear that.\")\n",
    "            \n",
    "g = Greeting()\n",
    "g.run()"
   ]
  },
  {
   "cell_type": "code",
   "execution_count": 1,
   "metadata": {},
   "outputs": [],
   "source": [
    "class Bot:\n",
    "    def __init__(self):\n",
    "        self.q = \"\"\n",
    "        self.a = \"\"\n",
    "        \n",
    "    def _think(self,s): #下划线警告不要外部改动\n",
    "        return s\n",
    "    \n",
    "    def run(self):\n",
    "        print(self.q)\n",
    "        self.a = input()\n",
    "        print(self._think(self.a))"
   ]
  },
  {
   "cell_type": "code",
   "execution_count": 2,
   "metadata": {},
   "outputs": [],
   "source": [
    "class HelloBot(Bot):\n",
    "    def __init__(self):\n",
    "        self.q = \"Hi! What's your name?\"\n",
    "    \n",
    "    def _think(self,s):\n",
    "        return f\"Hello {s}!\"\n",
    "        \n",
    "# h = HelloBot()\n",
    "# h.run()"
   ]
  },
  {
   "cell_type": "code",
   "execution_count": 3,
   "metadata": {},
   "outputs": [],
   "source": [
    "# 区分good 和 not good\n",
    "\n",
    "class GreetingBot(Bot):    \n",
    "    def __init__(self):\n",
    "        self.q = \"How are you today?\"\n",
    "\n",
    "    def is_good(self,s):\n",
    "        return 'good' in s.lower()\n",
    "    \n",
    "    def _think(self,s):\n",
    "        if self.is_good(s):\n",
    "            return \"I'm feeling good, too.\"\n",
    "        else:\n",
    "            return \"Sorry to hear that.\"\n",
    "            \n",
    "# g = GreetingBot()\n",
    "# g.run()"
   ]
  },
  {
   "cell_type": "code",
   "execution_count": 4,
   "metadata": {},
   "outputs": [],
   "source": [
    "import random\n",
    "\n",
    "class ColorBot(Bot):\n",
    "    def __init__(self):\n",
    "        self.q = \"what's your favorite color?\"\n",
    "        \n",
    "    def _think(self,s):\n",
    "        colors = ['red','green','orange','blue','brown','purple','gray']\n",
    "        return f\"You like {s}? That's beautiful color! I love {random.choice(colors)}.\"\n",
    "\n",
    "# c = ColorBot()\n",
    "# c.run()"
   ]
  },
  {
   "cell_type": "code",
   "execution_count": 6,
   "metadata": {},
   "outputs": [
    {
     "name": "stdout",
     "output_type": "stream",
     "text": [
      "what's your favorite color?\n"
     ]
    },
    {
     "name": "stdin",
     "output_type": "stream",
     "text": [
      " yellow\n"
     ]
    },
    {
     "name": "stdout",
     "output_type": "stream",
     "text": [
      "You like yellow? That's beautiful color! I love purple.\n"
     ]
    }
   ],
   "source": [
    "c = ColorBot()\n",
    "c.run()"
   ]
  },
  {
   "cell_type": "code",
   "execution_count": 5,
   "metadata": {},
   "outputs": [],
   "source": [
    "# 加入循环 文字信息\n",
    "from simpleeval import simple_eval\n",
    "\n",
    "class CalcBot(Bot):\n",
    "\n",
    "    def __init__(self):\n",
    "        self.q = \"I've learned to calculate. Give me some arithmatic expression to try:\"\n",
    "    \n",
    "    def _think(self,s):\n",
    "        result = simple_eval(s)\n",
    "        return f\"Done. Result = {result}\"\n",
    "        \n",
    "    def run(self):\n",
    "        print(self.q)\n",
    "        while True:\n",
    "            s = input()\n",
    "            if s in ['quit','q','exit','x']:\n",
    "                print('Quiting Calculator...')\n",
    "                break\n",
    "            print(self._think(s))\n",
    "            print(\"Type 'quit', 'q', 'exit' and 'x' to exit! You can also try again:\")"
   ]
  },
  {
   "cell_type": "code",
   "execution_count": 46,
   "metadata": {},
   "outputs": [
    {
     "name": "stdout",
     "output_type": "stream",
     "text": [
      "I've learned to calculate. Give me some arithmatic expression to try:\n"
     ]
    },
    {
     "name": "stdin",
     "output_type": "stream",
     "text": [
      " 123456\n"
     ]
    },
    {
     "name": "stdout",
     "output_type": "stream",
     "text": [
      "Done. Result = 123456\n",
      "Type 'quit', 'q', 'exit' and 'x' to exit! You can also try again:\n"
     ]
    },
    {
     "name": "stdin",
     "output_type": "stream",
     "text": [
      " 123+135\n"
     ]
    },
    {
     "name": "stdout",
     "output_type": "stream",
     "text": [
      "Done. Result = 258\n",
      "Type 'quit', 'q', 'exit' and 'x' to exit! You can also try again:\n"
     ]
    },
    {
     "name": "stdin",
     "output_type": "stream",
     "text": [
      " exit\n"
     ]
    },
    {
     "name": "stdout",
     "output_type": "stream",
     "text": [
      "Quiting Calculator...\n"
     ]
    }
   ],
   "source": [
    "d = CalcBot()\n",
    "d.run()"
   ]
  },
  {
   "cell_type": "code",
   "execution_count": null,
   "metadata": {},
   "outputs": [],
   "source": []
  },
  {
   "cell_type": "code",
   "execution_count": 35,
   "metadata": {},
   "outputs": [],
   "source": [
    "# New Bot\n",
    "import requests\n",
    "\n",
    "class AirBot(Bot):\n",
    "    \n",
    "    def __init__(self):\n",
    "        self.q = \"I've learned to search the air quality. I'll show you if you can give me a city.\"\n",
    "        \n",
    "    def _think(self,s):\n",
    "        \n",
    "        \"\"\"\n",
    "        To get the air quality of one city.\n",
    "        Official: http://aqicn.org/here/\n",
    "        Token Adress：http://aqicn.org/data-platform/token/#/\n",
    "        Param city: city\n",
    "        return:\n",
    "        \"\"\"\n",
    "        \n",
    "        city = self.a    \n",
    "        \n",
    "        AQICN_TOKEN = '6382db85ef321ae81f316486de0b5b8aa6c84f62'\n",
    "        AIR_STATUS_DICT = {\n",
    "            50: 'Good',\n",
    "            100: 'Moderate',\n",
    "            150: 'Unhealthy for Sensitive Groups',\n",
    "            200: 'Unhealthy',\n",
    "            300: 'Very Unhealthy',\n",
    "            3000: 'Hazardous'\n",
    "        }\n",
    "        \n",
    "        if not city or not city.strip():\n",
    "            return\n",
    "        print(f'Getting the air quality of {city} ...')\n",
    "        try:\n",
    "            url = f'http://api.waqi.info/feed/{city}/?token={AQICN_TOKEN}'\n",
    "            resp = requests.get(url)\n",
    "            if resp.status_code == 200:\n",
    "                content_dict = resp.json()\n",
    "                if content_dict.get('status') == 'ok':\n",
    "                    data_dict = content_dict['data']\n",
    "                    aqi = data_dict['aqi']\n",
    "                    air_status = 'Hazardous'\n",
    "                    for key in sorted(AIR_STATUS_DICT):\n",
    "                        if key >= aqi:\n",
    "                            air_status = AIR_STATUS_DICT[key]\n",
    "                            break\n",
    "                    aqi_info = f'{city} PM2.5：{aqi} {air_status}'\n",
    "                    return aqi_info\n",
    "                else:\n",
    "                    data_dict = content_dict['data']\n",
    "                    print(f'Failed to get the air quality:\\n{data_dict}')\n",
    "                    return None\n",
    "        except Exception as exception:\n",
    "            print(str(exception))\n",
    "        return None\n"
   ]
  },
  {
   "cell_type": "code",
   "execution_count": 36,
   "metadata": {},
   "outputs": [
    {
     "name": "stdout",
     "output_type": "stream",
     "text": [
      "I've learned to search the air quality. I'll show you if you can give me a city.\n"
     ]
    },
    {
     "name": "stdin",
     "output_type": "stream",
     "text": [
      " cs\n"
     ]
    },
    {
     "name": "stdout",
     "output_type": "stream",
     "text": [
      "Getting the air quality of cs ...\n",
      "Failed to get the air quality:\n",
      "Unknown station\n",
      "None\n"
     ]
    }
   ],
   "source": [
    "e = AirBot()\n",
    "e.run()"
   ]
  },
  {
   "cell_type": "code",
   "execution_count": 15,
   "metadata": {},
   "outputs": [
    {
     "name": "stdin",
     "output_type": "stream",
     "text": [
      " cs\n"
     ]
    },
    {
     "name": "stdout",
     "output_type": "stream",
     "text": [
      "获取 cs 的空气质量...\n",
      "获取空气质量失败:Unknown station\n",
      "None\n"
     ]
    }
   ],
   "source": [
    "import requests\n",
    "\n",
    "# token，申请地址：http://aqicn.org/data-platform/token/#/\n",
    "AQICN_TOKEN = '6382db85ef321ae81f316486de0b5b8aa6c84f62'\n",
    "\n",
    "AIR_STATUS_DICT = {\n",
    "    50: '优',\n",
    "    100: '良',\n",
    "    150: '轻度污染',\n",
    "    200: '中度污染',\n",
    "    300: '重度污染',\n",
    "    3000: '严重污染'\n",
    "}\n",
    "\n",
    "\n",
    "def get_air_quality(city):\n",
    "    \"\"\"\n",
    "    通过城市名获取空气质量\n",
    "    官网：http://aqicn.org/here/\n",
    "    token 申请地址：http://aqicn.org/data-platform/token/#/\n",
    "    :param city: 城市\n",
    "    :return:\n",
    "    \"\"\"\n",
    "    if not city or not city.strip():\n",
    "        return\n",
    "    print(f'获取 {city} 的空气质量...')\n",
    "    try:\n",
    "        url = f'http://api.waqi.info/feed/{city}/?token={AQICN_TOKEN}'\n",
    "        resp = requests.get(url)\n",
    "        if resp.status_code == 200:\n",
    "            # print(resp.text)\n",
    "            content_dict = resp.json()\n",
    "            if content_dict.get('status') == 'ok':\n",
    "                data_dict = content_dict['data']\n",
    "                aqi = data_dict['aqi']\n",
    "                air_status = '严重污染'\n",
    "                for key in sorted(AIR_STATUS_DICT):\n",
    "                    if key >= aqi:\n",
    "                        air_status = AIR_STATUS_DICT[key]\n",
    "                        break\n",
    "                aqi_info = f'{city} PM2.5：{aqi} {air_status}'\n",
    "                # print(aqi_info)\n",
    "                return aqi_info\n",
    "            else:\n",
    "                data_dict = content_dict['data']\n",
    "                print(f'获取空气质量失败:{data_dict}')\n",
    "                return None\n",
    "        print('获取空气质量失败。')\n",
    "    except Exception as exception:\n",
    "        print(str(exception))\n",
    "    return None\n",
    "\n",
    "\n",
    "if __name__ == '__main__':\n",
    "    city = input()\n",
    "    dd = get_air_quality(city)\n",
    "    print(dd)"
   ]
  },
  {
   "cell_type": "code",
   "execution_count": null,
   "metadata": {},
   "outputs": [],
   "source": []
  },
  {
   "cell_type": "code",
   "execution_count": 8,
   "metadata": {},
   "outputs": [],
   "source": [
    "class Garfield:\n",
    "    def __init__(self):\n",
    "        self.bots = []\n",
    "        \n",
    "    def add(self,bot):\n",
    "        self.bots.append(bot)\n",
    "        \n",
    "    def run(self):\n",
    "        print(\"This is a dialog system. Let's talk.\")\n",
    "        print()\n",
    "        \n",
    "        for bot in self.bots:\n",
    "            bot.run()"
   ]
  },
  {
   "cell_type": "code",
   "execution_count": 47,
   "metadata": {},
   "outputs": [
    {
     "name": "stdout",
     "output_type": "stream",
     "text": [
      "This is a dialog system. Let's talk.\n",
      "\n",
      "Hi! What's your name?\n"
     ]
    },
    {
     "name": "stdin",
     "output_type": "stream",
     "text": [
      " 123\n"
     ]
    },
    {
     "name": "stdout",
     "output_type": "stream",
     "text": [
      "Hello 123!\n",
      "How are you today?\n"
     ]
    },
    {
     "name": "stdin",
     "output_type": "stream",
     "text": [
      " 123\n"
     ]
    },
    {
     "name": "stdout",
     "output_type": "stream",
     "text": [
      "Sorry to hear that.\n",
      "what's your favorite color?\n"
     ]
    },
    {
     "name": "stdin",
     "output_type": "stream",
     "text": [
      " 123\n"
     ]
    },
    {
     "name": "stdout",
     "output_type": "stream",
     "text": [
      "You like 123? That's beautiful color! I love blue.\n",
      "I've learned to calculate. Give me some arithmatic expression to try:\n"
     ]
    },
    {
     "name": "stdin",
     "output_type": "stream",
     "text": [
      " 123\n"
     ]
    },
    {
     "name": "stdout",
     "output_type": "stream",
     "text": [
      "Done. Result = 123\n",
      "Type 'quit', 'q', 'exit' and 'x' to exit! You can also try again:\n"
     ]
    },
    {
     "name": "stdin",
     "output_type": "stream",
     "text": [
      " 123\n"
     ]
    },
    {
     "name": "stdout",
     "output_type": "stream",
     "text": [
      "Done. Result = 123\n",
      "Type 'quit', 'q', 'exit' and 'x' to exit! You can also try again:\n"
     ]
    },
    {
     "name": "stdin",
     "output_type": "stream",
     "text": [
      " 112312444\n"
     ]
    },
    {
     "name": "stdout",
     "output_type": "stream",
     "text": [
      "Done. Result = 112312444\n",
      "Type 'quit', 'q', 'exit' and 'x' to exit! You can also try again:\n"
     ]
    },
    {
     "name": "stdin",
     "output_type": "stream",
     "text": [
      " q\n"
     ]
    },
    {
     "name": "stdout",
     "output_type": "stream",
     "text": [
      "Quiting Calculator...\n"
     ]
    }
   ],
   "source": [
    "g = Garfield()\n",
    "g.add(HelloBot())\n",
    "g.add(GreetingBot())\n",
    "g.add(ColorBot())\n",
    "g.add(CalcBot())\n",
    "g.run()"
   ]
  },
  {
   "cell_type": "code",
   "execution_count": null,
   "metadata": {},
   "outputs": [],
   "source": []
  },
  {
   "cell_type": "markdown",
   "metadata": {},
   "source": [
    "作业：\n",
    "\n",
    "1. 完善CalcBot\n",
    "\n",
    "2. 新增一个Bot\n",
    "\n",
    "3. 完善可能出现的运行错误"
   ]
  },
  {
   "cell_type": "code",
   "execution_count": null,
   "metadata": {},
   "outputs": [],
   "source": []
  }
 ],
 "metadata": {
  "kernelspec": {
   "display_name": "Python 3",
   "language": "python",
   "name": "python3"
  },
  "language_info": {
   "codemirror_mode": {
    "name": "ipython",
    "version": 3
   },
   "file_extension": ".py",
   "mimetype": "text/x-python",
   "name": "python",
   "nbconvert_exporter": "python",
   "pygments_lexer": "ipython3",
   "version": "3.7.4"
  }
 },
 "nbformat": 4,
 "nbformat_minor": 4
}
